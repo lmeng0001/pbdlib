{
 "cells": [
  {
   "cell_type": "markdown",
   "metadata": {},
   "source": [
    "$\n",
    "\\newcommand{\\Tau}{\\mathcal{T}}\n",
    "\\newcommand{\\bm}[1]{{\\boldsymbol{#1}}}\n",
    "\\newcommand{\\dt}[1]{{\\frac{d#1}{dt}}}\n",
    "%\\newcommand{\\bm}{\\mathbf{#1}}\n",
    "\\newcommand{\\trsp}{{\\scriptscriptstyle\\top}}$"
   ]
  },
  {
   "cell_type": "markdown",
   "metadata": {},
   "source": [
    "\n",
    "This notebook demonstrate the principal functionalities of pbdlib."
   ]
  },
  {
   "cell_type": "code",
   "execution_count": 4,
   "metadata": {
    "collapsed": true
   },
   "outputs": [],
   "source": [
    "import numpy as np\n",
    "import os\n",
    "import matplotlib.pyplot as plt\n",
    "import pbdlib as pbd\n",
    "\n",
    "%matplotlib inline\n",
    "%load_ext autoreload\n",
    "%autoreload 2\n",
    "\n",
    "from pbdlib.utils.jupyter_utils import *\n",
    "np.set_printoptions(precision=2)"
   ]
  },
  {
   "cell_type": "markdown",
   "metadata": {},
   "source": [
    "# Multivariate Normal Distribution (MVN) - Gaussian\n",
    "Here we create a multivariate Gaussian distribution, plot it, transform it and make product.\n"
   ]
  },
  {
   "cell_type": "markdown",
   "metadata": {},
   "source": [
    "## Transformation  \n",
    "We demonstrate how to transform MVN distributions. Suppose that the distribution acts on transformed datapoint $\\bm{x}$ as $\\mathcal{N}(\\bm{A}\\bm{x} + \\bm{b}|\\, \\bm{\\mu}, \\bm{\\Sigma})$. This distribution can be expressed on the original data point by transforming the parameters $\\bm{\\mu}, \\bm{\\Sigma}$ instead :\n",
    "\n",
    "$$\\mathcal{N}(\\bm{A}\\bm{x} + \\bm{b}|\\, \\bm{\\mu}, \\bm{\\Sigma}) = \\mathcal{N}(\\bm{x} |\\, \\bm{\\mu}_{transf}, \\bm{\\Sigma}_{transf})$$\n",
    "with\n",
    "\n",
    "$$\\bm{\\mu}_{transf} = \\bm{A}^\\dagger (\\bm{\\mu}-\\bm{b})$$\n",
    "$$\\bm{\\Lambda}_{transf} = \\bm{A}^\\trsp\\bm{\\Lambda} \\bm{A}$$\n",
    "$$\\bm{\\Sigma}_{transf} = \\bm{\\Lambda}_{transf}^{-1}$$\n",
    "\n",
    "see [Liu](http://www.cs.columbia.edu/~liulp/pdf/linear_normal_dist.pdf) for more precision. **WARNING** The transformation here are not the same as in the paper, they are the inverse."
   ]
  },
  {
   "cell_type": "code",
   "execution_count": 5,
   "metadata": {
    "collapsed": false
   },
   "outputs": [
    {
     "data": {
      "image/png": "[encoded data removed]",
      "text/plain": [
       "<Figure size 432x288 with 1 Axes>"
      ]
     },
     "metadata": {
      "needs_background": "light"
     },
     "output_type": "display_data"
    }
   ],
   "source": [
    "# create distribution\n",
    "mvn = pbd.MVN(mu=np.array([1., 3.]), sigma=np.diag([0.1, 2.]))\n",
    "\n",
    "# plot distribution\n",
    "plt.axes().set_aspect('equal')\n",
    "pbd.plot_gmm(mvn.mu, mvn.sigma) \n",
    "\n",
    "# transformation\n",
    "rot_mat = pbd.utils.angle_to_rotation(np.pi/2)  # create rotation matrix from angle\n",
    "mvn = mvn.transform(A=rot_mat, b=np.array([0., -2.]))  # apply the transformation on the distribution\n",
    "pbd.plot_gmm(mvn.mu, mvn.sigma, color='y');"
   ]
  },
  {
   "cell_type": "markdown",
   "metadata": {},
   "source": [
    "## Product \n",
    "\n",
    "Suppose we want to combine evidences from multiples experts, whose belief is expressed as probability distributions with parameters $\\bm{\\theta}^{(j)}$ for expert $j$. One way to combine this distribution to get the best agreement between the expert is to make the product of them, see [Hinton](http://www.cs.toronto.edu/~hinton/absps/nccd.pdf).\n",
    "\\begin{equation}\n",
    "p(\\bm{\\xi}_t|\\bm{\\theta}^{(1)}, \\ldots, \\bm{\\theta}^{(P)}) = \n",
    "\\frac{\\prod_j p_j(\\bm{\\xi}_t\\,| \\bm{\\theta}^{(j)})}\n",
    "{\\int_x \\prod_j p_j(\\bm{x}\\,| \\bm{\\theta}^{(j)})}\n",
    "\\end{equation}"
   ]
  },
  {
   "cell_type": "markdown",
   "metadata": {},
   "source": [
    "If the expert distributions are Gaussian with $\\bm{\\theta}^{(j)}=\\{\\bm{\\mu}^{(j)}, \\bm{\\Sigma}^{(j)}\\}$, the product as an analytical solution and is Gaussian as well. With  \n",
    "$\\bm{\\Lambda} = \\bm{\\Sigma}^{-1}$\n",
    "\n",
    "$\\bm{\\Lambda} = \\sum_j {\\bm{\\Lambda}}^{(j)}$\n",
    "\n",
    "$\\bm{\\mu} = \\bm{\\Lambda}^{-1 }\\sum_j {\\bm{\\Lambda}}^{(j)} {\\bm{\\mu}}^{(j)}$\n",
    "\n",
    "See [Bromiley](http://www.tina-vision.net/docs/memos/2003-003.pdf) for more precision."
   ]
  },
  {
   "cell_type": "code",
   "execution_count": 6,
   "metadata": {
    "collapsed": false
   },
   "outputs": [
    {
     "data": {
      "image/png": "[encoded data removed]",
      "text/plain": [
       "<Figure size 432x288 with 1 Axes>"
      ]
     },
     "metadata": {
      "needs_background": "light"
     },
     "output_type": "display_data"
    }
   ],
   "source": [
    "mvn = pbd.MVN(mu=np.array([1., 3.]), sigma=np.diag([0.1, 2.]))\n",
    "mvn_2 = pbd.MVN(mu=np.array([2., 0.]), sigma=np.diag([10., 0.02]))\n",
    "\n",
    "mvn_product = mvn * mvn_2\n",
    "plt.axes().set_aspect('equal')\n",
    "\n",
    "pbd.plot_gmm(mvn.mu, mvn.sigma)\n",
    "pbd.plot_gmm(mvn_2.mu, mvn_2.sigma, color='y')\n",
    "\n",
    "pbd.plot_gmm(mvn_product.mu, mvn_product.sigma, color='b');"
   ]
  },
  {
   "cell_type": "markdown",
   "metadata": {},
   "source": [
    "# Gaussian Mixture Model (GMM)\n",
    "This is an example on how to create a Gaussian Mixture model and train it over some data."
   ]
  },
  {
   "cell_type": "code",
   "execution_count": 7,
   "metadata": {
    "collapsed": true
   },
   "outputs": [
    {
     "ename": "FileNotFoundError",
     "evalue": "[Errno 2] No such file or directory: '/home/marc/git/uni/imitation-learning/pbdlib-python/pbdlib/data/2Dletters/C.mat'",
     "output_type": "error",
     "traceback": [
      "\u001b[0;31m---------------------------------------------------------------------------\u001b[0m",
      "\u001b[0;31mFileNotFoundError\u001b[0m                         Traceback (most recent call last)",
      "\u001b[0;32m~/git/uni/imitation-learning/venv/lib/python3.6/site-packages/scipy/io/matlab/mio.py\u001b[0m in \u001b[0;36m_open_file\u001b[0;34m(file_like, appendmat)\u001b[0m\n\u001b[1;32m     30\u001b[0m     \u001b[0;32mtry\u001b[0m\u001b[0;34m:\u001b[0m\u001b[0;34m\u001b[0m\u001b[0;34m\u001b[0m\u001b[0m\n\u001b[0;32m---> 31\u001b[0;31m         \u001b[0;32mreturn\u001b[0m \u001b[0mopen\u001b[0m\u001b[0;34m(\u001b[0m\u001b[0mfile_like\u001b[0m\u001b[0;34m,\u001b[0m \u001b[0;34m'rb'\u001b[0m\u001b[0;34m)\u001b[0m\u001b[0;34m,\u001b[0m \u001b[0;32mTrue\u001b[0m\u001b[0;34m\u001b[0m\u001b[0;34m\u001b[0m\u001b[0m\n\u001b[0m\u001b[1;32m     32\u001b[0m     \u001b[0;32mexcept\u001b[0m \u001b[0mIOError\u001b[0m\u001b[0;34m:\u001b[0m\u001b[0;34m\u001b[0m\u001b[0;34m\u001b[0m\u001b[0m\n",
      "\u001b[0;31mFileNotFoundError\u001b[0m: [Errno 2] No such file or directory: '/home/marc/git/uni/imitation-learning/pbdlib-python/pbdlib/data/2Dletters/C.mat'",
      "\nDuring handling of the above exception, another exception occurred:\n",
      "\u001b[0;31mFileNotFoundError\u001b[0m                         Traceback (most recent call last)",
      "\u001b[0;32m<ipython-input-7-e7507b87ca98>\u001b[0m in \u001b[0;36m<module>\u001b[0;34m\u001b[0m\n\u001b[1;32m      3\u001b[0m \u001b[0mletter\u001b[0m \u001b[0;34m=\u001b[0m \u001b[0;34m'C'\u001b[0m \u001b[0;31m# choose a letter in the alphabet\u001b[0m\u001b[0;34m\u001b[0m\u001b[0;34m\u001b[0m\u001b[0m\n\u001b[1;32m      4\u001b[0m \u001b[0mdatapath\u001b[0m \u001b[0;34m=\u001b[0m \u001b[0mos\u001b[0m\u001b[0;34m.\u001b[0m\u001b[0mpath\u001b[0m\u001b[0;34m.\u001b[0m\u001b[0mdirname\u001b[0m\u001b[0;34m(\u001b[0m\u001b[0mpbd\u001b[0m\u001b[0;34m.\u001b[0m\u001b[0m__file__\u001b[0m\u001b[0;34m)\u001b[0m \u001b[0;34m+\u001b[0m \u001b[0;34m'/data/2Dletters/'\u001b[0m\u001b[0;34m\u001b[0m\u001b[0;34m\u001b[0m\u001b[0m\n\u001b[0;32m----> 5\u001b[0;31m \u001b[0mdata\u001b[0m \u001b[0;34m=\u001b[0m \u001b[0mloadmat\u001b[0m\u001b[0;34m(\u001b[0m\u001b[0mdatapath\u001b[0m \u001b[0;34m+\u001b[0m \u001b[0;34m'%s.mat'\u001b[0m \u001b[0;34m%\u001b[0m \u001b[0mletter\u001b[0m\u001b[0;34m)\u001b[0m\u001b[0;34m\u001b[0m\u001b[0;34m\u001b[0m\u001b[0m\n\u001b[0m\u001b[1;32m      6\u001b[0m \u001b[0mdemos\u001b[0m \u001b[0;34m=\u001b[0m \u001b[0;34m[\u001b[0m\u001b[0md\u001b[0m\u001b[0;34m[\u001b[0m\u001b[0;34m'pos'\u001b[0m\u001b[0;34m]\u001b[0m\u001b[0;34m[\u001b[0m\u001b[0;36m0\u001b[0m\u001b[0;34m]\u001b[0m\u001b[0;34m[\u001b[0m\u001b[0;36m0\u001b[0m\u001b[0;34m]\u001b[0m\u001b[0;34m.\u001b[0m\u001b[0mT\u001b[0m \u001b[0;32mfor\u001b[0m \u001b[0md\u001b[0m \u001b[0;32min\u001b[0m \u001b[0mdata\u001b[0m\u001b[0;34m[\u001b[0m\u001b[0;34m'demos'\u001b[0m\u001b[0;34m]\u001b[0m\u001b[0;34m[\u001b[0m\u001b[0;36m0\u001b[0m\u001b[0;34m]\u001b[0m\u001b[0;34m]\u001b[0m \u001b[0;31m# cleaning awful matlab data\u001b[0m\u001b[0;34m\u001b[0m\u001b[0;34m\u001b[0m\u001b[0m\n",
      "\u001b[0;32m~/git/uni/imitation-learning/venv/lib/python3.6/site-packages/scipy/io/matlab/mio.py\u001b[0m in \u001b[0;36mloadmat\u001b[0;34m(file_name, mdict, appendmat, **kwargs)\u001b[0m\n\u001b[1;32m    205\u001b[0m     \"\"\"\n\u001b[1;32m    206\u001b[0m     \u001b[0mvariable_names\u001b[0m \u001b[0;34m=\u001b[0m \u001b[0mkwargs\u001b[0m\u001b[0;34m.\u001b[0m\u001b[0mpop\u001b[0m\u001b[0;34m(\u001b[0m\u001b[0;34m'variable_names'\u001b[0m\u001b[0;34m,\u001b[0m \u001b[0;32mNone\u001b[0m\u001b[0;34m)\u001b[0m\u001b[0;34m\u001b[0m\u001b[0;34m\u001b[0m\u001b[0m\n\u001b[0;32m--> 207\u001b[0;31m     \u001b[0mMR\u001b[0m\u001b[0;34m,\u001b[0m \u001b[0mfile_opened\u001b[0m \u001b[0;34m=\u001b[0m \u001b[0mmat_reader_factory\u001b[0m\u001b[0;34m(\u001b[0m\u001b[0mfile_name\u001b[0m\u001b[0;34m,\u001b[0m \u001b[0mappendmat\u001b[0m\u001b[0;34m,\u001b[0m \u001b[0;34m**\u001b[0m\u001b[0mkwargs\u001b[0m\u001b[0;34m)\u001b[0m\u001b[0;34m\u001b[0m\u001b[0;34m\u001b[0m\u001b[0m\n\u001b[0m\u001b[1;32m    208\u001b[0m     \u001b[0mmatfile_dict\u001b[0m \u001b[0;34m=\u001b[0m \u001b[0mMR\u001b[0m\u001b[0;34m.\u001b[0m\u001b[0mget_variables\u001b[0m\u001b[0;34m(\u001b[0m\u001b[0mvariable_names\u001b[0m\u001b[0;34m)\u001b[0m\u001b[0;34m\u001b[0m\u001b[0;34m\u001b[0m\u001b[0m\n\u001b[1;32m    209\u001b[0m     \u001b[0;32mif\u001b[0m \u001b[0mmdict\u001b[0m \u001b[0;32mis\u001b[0m \u001b[0;32mnot\u001b[0m \u001b[0;32mNone\u001b[0m\u001b[0;34m:\u001b[0m\u001b[0;34m\u001b[0m\u001b[0;34m\u001b[0m\u001b[0m\n",
      "\u001b[0;32m~/git/uni/imitation-learning/venv/lib/python3.6/site-packages/scipy/io/matlab/mio.py\u001b[0m in \u001b[0;36mmat_reader_factory\u001b[0;34m(file_name, appendmat, **kwargs)\u001b[0m\n\u001b[1;32m     60\u001b[0m \u001b[0;34m\u001b[0m\u001b[0m\n\u001b[1;32m     61\u001b[0m     \"\"\"\n\u001b[0;32m---> 62\u001b[0;31m     \u001b[0mbyte_stream\u001b[0m\u001b[0;34m,\u001b[0m \u001b[0mfile_opened\u001b[0m \u001b[0;34m=\u001b[0m \u001b[0m_open_file\u001b[0m\u001b[0;34m(\u001b[0m\u001b[0mfile_name\u001b[0m\u001b[0;34m,\u001b[0m \u001b[0mappendmat\u001b[0m\u001b[0;34m)\u001b[0m\u001b[0;34m\u001b[0m\u001b[0;34m\u001b[0m\u001b[0m\n\u001b[0m\u001b[1;32m     63\u001b[0m     \u001b[0mmjv\u001b[0m\u001b[0;34m,\u001b[0m \u001b[0mmnv\u001b[0m \u001b[0;34m=\u001b[0m \u001b[0mget_matfile_version\u001b[0m\u001b[0;34m(\u001b[0m\u001b[0mbyte_stream\u001b[0m\u001b[0;34m)\u001b[0m\u001b[0;34m\u001b[0m\u001b[0;34m\u001b[0m\u001b[0m\n\u001b[1;32m     64\u001b[0m     \u001b[0;32mif\u001b[0m \u001b[0mmjv\u001b[0m \u001b[0;34m==\u001b[0m \u001b[0;36m0\u001b[0m\u001b[0;34m:\u001b[0m\u001b[0;34m\u001b[0m\u001b[0;34m\u001b[0m\u001b[0m\n",
      "\u001b[0;32m~/git/uni/imitation-learning/venv/lib/python3.6/site-packages/scipy/io/matlab/mio.py\u001b[0m in \u001b[0;36m_open_file\u001b[0;34m(file_like, appendmat)\u001b[0m\n\u001b[1;32m     35\u001b[0m             \u001b[0;32mif\u001b[0m \u001b[0mappendmat\u001b[0m \u001b[0;32mand\u001b[0m \u001b[0;32mnot\u001b[0m \u001b[0mfile_like\u001b[0m\u001b[0;34m.\u001b[0m\u001b[0mendswith\u001b[0m\u001b[0;34m(\u001b[0m\u001b[0;34m'.mat'\u001b[0m\u001b[0;34m)\u001b[0m\u001b[0;34m:\u001b[0m\u001b[0;34m\u001b[0m\u001b[0;34m\u001b[0m\u001b[0m\n\u001b[1;32m     36\u001b[0m                 \u001b[0mfile_like\u001b[0m \u001b[0;34m+=\u001b[0m \u001b[0;34m'.mat'\u001b[0m\u001b[0;34m\u001b[0m\u001b[0;34m\u001b[0m\u001b[0m\n\u001b[0;32m---> 37\u001b[0;31m             \u001b[0;32mreturn\u001b[0m \u001b[0mopen\u001b[0m\u001b[0;34m(\u001b[0m\u001b[0mfile_like\u001b[0m\u001b[0;34m,\u001b[0m \u001b[0;34m'rb'\u001b[0m\u001b[0;34m)\u001b[0m\u001b[0;34m,\u001b[0m \u001b[0;32mTrue\u001b[0m\u001b[0;34m\u001b[0m\u001b[0;34m\u001b[0m\u001b[0m\n\u001b[0m\u001b[1;32m     38\u001b[0m         \u001b[0;32melse\u001b[0m\u001b[0;34m:\u001b[0m\u001b[0;34m\u001b[0m\u001b[0;34m\u001b[0m\u001b[0m\n\u001b[1;32m     39\u001b[0m             \u001b[0;32mraise\u001b[0m \u001b[0mIOError\u001b[0m\u001b[0;34m(\u001b[0m\u001b[0;34m'Reader needs file name or open file-like object'\u001b[0m\u001b[0;34m)\u001b[0m\u001b[0;34m\u001b[0m\u001b[0;34m\u001b[0m\u001b[0m\n",
      "\u001b[0;31mFileNotFoundError\u001b[0m: [Errno 2] No such file or directory: '/home/marc/git/uni/imitation-learning/pbdlib-python/pbdlib/data/2Dletters/C.mat'"
     ]
    }
   ],
   "source": [
    "from scipy.io import loadmat # loading data from matlab\n",
    "\n",
    "letter = 'C' # choose a letter in the alphabet\n",
    "datapath = os.path.dirname(pbd.__file__) + '/data/2Dletters/'\n",
    "data = loadmat(datapath + '%s.mat' % letter)\n",
    "demos = [d['pos'][0][0].T for d in data['demos'][0]] # cleaning awful matlab data"
   ]
  },
  {
   "cell_type": "code",
   "execution_count": 8,
   "metadata": {
    "collapsed": false
   },
   "outputs": [
    {
     "ename": "NameError",
     "evalue": "name 'demos' is not defined",
     "output_type": "error",
     "traceback": [
      "\u001b[0;31m---------------------------------------------------------------------------\u001b[0m",
      "\u001b[0;31mNameError\u001b[0m                                 Traceback (most recent call last)",
      "\u001b[0;32m<ipython-input-8-d663c20fee01>\u001b[0m in \u001b[0;36m<module>\u001b[0;34m\u001b[0m\n\u001b[1;32m      1\u001b[0m \u001b[0mmodel\u001b[0m \u001b[0;34m=\u001b[0m \u001b[0mpbd\u001b[0m\u001b[0;34m.\u001b[0m\u001b[0mGMM\u001b[0m\u001b[0;34m(\u001b[0m\u001b[0mnb_dim\u001b[0m\u001b[0;34m=\u001b[0m\u001b[0;36m2\u001b[0m\u001b[0;34m,\u001b[0m \u001b[0mnb_states\u001b[0m\u001b[0;34m=\u001b[0m\u001b[0;36m4\u001b[0m\u001b[0;34m)\u001b[0m\u001b[0;34m\u001b[0m\u001b[0;34m\u001b[0m\u001b[0m\n\u001b[1;32m      2\u001b[0m \u001b[0;34m\u001b[0m\u001b[0m\n\u001b[0;32m----> 3\u001b[0;31m \u001b[0mdata\u001b[0m \u001b[0;34m=\u001b[0m \u001b[0mnp\u001b[0m\u001b[0;34m.\u001b[0m\u001b[0mconcatenate\u001b[0m\u001b[0;34m(\u001b[0m\u001b[0mdemos\u001b[0m\u001b[0;34m)\u001b[0m\u001b[0;34m\u001b[0m\u001b[0;34m\u001b[0m\u001b[0m\n\u001b[0m\u001b[1;32m      4\u001b[0m \u001b[0mmodel\u001b[0m\u001b[0;34m.\u001b[0m\u001b[0mem\u001b[0m\u001b[0;34m(\u001b[0m\u001b[0mdata\u001b[0m\u001b[0;34m=\u001b[0m\u001b[0mdata\u001b[0m\u001b[0;34m,\u001b[0m \u001b[0mreg\u001b[0m\u001b[0;34m=\u001b[0m\u001b[0;36m1e-3\u001b[0m\u001b[0;34m)\u001b[0m\u001b[0;34m\u001b[0m\u001b[0;34m\u001b[0m\u001b[0m\n\u001b[1;32m      5\u001b[0m \u001b[0;34m\u001b[0m\u001b[0m\n",
      "\u001b[0;31mNameError\u001b[0m: name 'demos' is not defined"
     ]
    }
   ],
   "source": [
    "model = pbd.GMM(nb_dim=2, nb_states=4)\n",
    "\n",
    "data = np.concatenate(demos)\n",
    "model.em(data=data, reg=1e-3)\n",
    "\n",
    "plt.figure(figsize=(2,2))\n",
    "for p in demos:\n",
    "    plt.plot(p[:, 0], p[:, 1])\n",
    "    \n",
    "pbd.plot_gmm(model.mu, model.sigma);"
   ]
  },
  {
   "cell_type": "markdown",
   "metadata": {},
   "source": [
    "# Hidden Markov Model (HMM)"
   ]
  },
  {
   "cell_type": "code",
   "execution_count": 9,
   "metadata": {
    "collapsed": false
   },
   "outputs": [
    {
     "data": {
      "image/png": "[encoded data removed]",
      "text/plain": [
       "<matplotlib.figure.Figure at 0x7efde009cc10>"
      ]
     },
     "metadata": {},
     "output_type": "display_data"
    }
   ],
   "source": [
    "model = pbd.HMM(nb_states=4, nb_dim=2)\n",
    "\n",
    "model.init_hmm_kbins(demos) # initializing model\n",
    "\n",
    "# plotting\n",
    "fig, ax = plt.subplots(ncols=2)\n",
    "fig.set_size_inches(5,2.5)\n",
    "pbd.plot_gmm(model.mu, model.sigma, alpha=0.5, color='steelblue', ax=ax[0]); # plot after init only\n",
    "\n",
    "# EM to train model\n",
    "model.em(demos, reg=1e-3) \n",
    "\n",
    "# plotting demos\n",
    "for p in demos:\n",
    "    ax[0].plot(p[:, 0], p[:, 1])\n",
    "    \n",
    "pbd.plot_gmm(model.mu, model.sigma, ax=ax[0]); \n",
    "\n",
    "# plotting transition matrix\n",
    "ax[1].imshow(np.log(model.Trans+1e-10), interpolation='nearest', vmin=-5, cmap='viridis');\n",
    "plt.tight_layout()"
   ]
  },
  {
   "cell_type": "markdown",
   "metadata": {},
   "source": [
    "#### Compute most likely sequence of state with Viterbi and forward variable"
   ]
  },
  {
   "cell_type": "code",
   "execution_count": 10,
   "metadata": {
    "collapsed": false
   },
   "outputs": [
    {
     "data": {
      "image/png": "[encoded data removed]",
      "text/plain": [
       "<matplotlib.figure.Figure at 0x7efde0702190>"
      ]
     },
     "metadata": {},
     "output_type": "display_data"
    }
   ],
   "source": [
    "q = model.viterbi(demos[1])\n",
    "alpha, _, _, _, _ = model.compute_messages(demos[1])\n",
    "\n",
    "plt.figure(figsize=(5, 1))\n",
    "plt.plot(q, lw=3);\n",
    "plt.plot(alpha.T * (model.nb_states-0.1), lw=1);\n",
    "plt.xlabel('timestep');"
   ]
  },
  {
   "cell_type": "markdown",
   "metadata": {},
   "source": [
    "#### Compute likelihood of HMM model for given demo\n",
    "This can be used for action recognition when considering multiple HMMs corresponding to different actions."
   ]
  },
  {
   "cell_type": "code",
   "execution_count": 11,
   "metadata": {
    "collapsed": false
   },
   "outputs": [
    {
     "name": "stdout",
     "output_type": "stream",
     "text": [
      "[604.77532650710077, 622.21722294986239, 690.36818465333215, 627.90848472088783, 687.86406780327115, 671.99491016173624, 714.6971630615808, 765.40881580123289, 653.04279562616421, 635.65783418611136, 644.3801285840027, 643.07362870797783, 669.93546349681139, 627.19016919356841]\n"
     ]
    }
   ],
   "source": [
    "score = model.score(demos)\n",
    "print score"
   ]
  }
 ],
 "metadata": {
  "anaconda-cloud": {},
  "hide_input": false,
  "kernelspec": {
   "display_name": "Python 3",
   "language": "python",
   "name": "python3"
  },
  "language_info": {
   "codemirror_mode": {
    "name": "ipython",
    "version": 3
   },
   "file_extension": ".py",
   "mimetype": "text/x-python",
   "name": "python",
   "nbconvert_exporter": "python",
   "pygments_lexer": "ipython3",
   "version": "3.6.7"
  },
  "latex_envs": {
   "bibliofile": "biblio.bib",
   "cite_by": "apalike",
   "current_citInitial": 1,
   "eqLabelWithNumbers": true,
   "eqNumInitial": 0
  }
 },
 "nbformat": 4,
 "nbformat_minor": 2
}
